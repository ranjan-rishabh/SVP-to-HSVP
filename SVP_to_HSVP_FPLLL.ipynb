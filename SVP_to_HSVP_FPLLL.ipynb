{
 "cells": [
  {
   "cell_type": "code",
   "execution_count": 3,
   "metadata": {},
   "outputs": [],
   "source": [
    "from fpylll import IntegerMatrix\n",
    "import numpy as np"
   ]
  },
  {
   "cell_type": "code",
   "execution_count": 3,
   "metadata": {},
   "outputs": [],
   "source": [
    "# find l^2-SVP of lattice given an oracle to find l-HSVP\n",
    "def SVP (B):\n",
    "    if(B.shape[1] == 1):\n",
    "        return np.linalg.norm(B) #if there is just one basis vector\n",
    "    \n",
    "    X = HSVP(B)\n",
    "    D = B.dot(np.linalg.inv(B.dot(B.T))) #dual lattice\n",
    "    Y = HSVP(D)\n",
    "    L0 = sublatticeOrthogonalToGivenVector(D, Y)\n",
    "\n",
    "    return min(np.linalg.norm(X), SVP(L0))"
   ]
  },
  {
   "cell_type": "code",
   "execution_count": null,
   "metadata": {},
   "outputs": [],
   "source": [
    "def HSVP (B):\n",
    "    #return the HSVP vector for the given lattice\n",
    "    \"\""
   ]
  },
  {
   "cell_type": "code",
   "execution_count": 1,
   "metadata": {},
   "outputs": [],
   "source": [
    "# return sublattice along the hyperplane orthogonal to Y\n",
    "def sublatticeOrthogonalToGivenVector(D, Y):\n",
    "    # vector which satifies DV=Y\n",
    "    V = np.linalg.solve(D, Y)\n",
    "\n",
    "    # this will store the unimodular matrix \n",
    "    # which when multiplied with D given a lattice basis which has first vector as Y\n",
    "    U = np.zeros(np.shape(D))\n",
    "    U[:,0] = V\n",
    "\n",
    "    # dimension of U\n",
    "    n = U.shape[0]\n",
    "\n",
    "    # this will store the elementary operations matrix\n",
    "    Elem = np.identity(n)\n",
    "\n",
    "    # swapping first and last columns and transposing\n",
    "    U = U.dot(swap(0, -1, n))\n",
    "    U_T = U.T\n",
    "\n",
    "    # columnGCD operations for all consecutive columns\n",
    "    for i in range(n-1):\n",
    "        [U, Elem] = columnGCD(i, i+1, U, Elem)\n",
    "\n",
    "    # inverting all the elementary operations\n",
    "    # this creates a unimodular matrix whose first column has values \n",
    "    # such that on multiplying with D (dual of original) it will give \n",
    "    # a basis whose first column is Y\n",
    "    U = U.dot(np.linalg.inv(Elem))\n",
    "    U = U.T\n",
    "    U = U.dot(swap(0, -1, n))\n",
    "\n",
    "    # lattice basis of dual lattice D with first basis vector as Y\n",
    "    # this has dimensions n x n-1\n",
    "    M = D.dot(U)\n",
    "    M = M.dot(np.linalg.inv(M.dot(M.T)))[:, 1:]\n",
    "\n",
    "    # reduce last row as in HNF to make M a square matrix\n",
    "    for i in range(n-2):\n",
    "        [M, _] = columnGCD(i, i+1, M, np.identity(n-1))\n",
    "\n",
    "    # remove last row and return\n",
    "    return M[:-1, :]\n",
    "\n",
    "\n"
   ]
  },
  {
   "cell_type": "code",
   "execution_count": 2,
   "metadata": {},
   "outputs": [],
   "source": [
    "# perform gcd operations on the last row elemets of the given vectors\n",
    "# and return the matrix for elementary operations involved\n",
    "def columnGCD(i, j, U, Elem):\n",
    "    a = U[-1][i]\n",
    "    b = U[-1][j]\n",
    "\n",
    "    if(a==0):\n",
    "        return [U, Elem]\n",
    "    \n",
    "    if(a>b):\n",
    "        Elem = Elem.dot(swap(i, j, U.shape[0]))\n",
    "        [U, Elem] = columnGCD(i, j, U.dot(Elem), Elem)\n",
    "    else :\n",
    "        Elem = Elem.dot(add(j, i, (-1)*(b/a), U.shape[0]))\n",
    "        [U, Elem] = columnGCD(i, j, U.dot(Elem), Elem)\n",
    "\n",
    "    return [U, Elem]\n"
   ]
  },
  {
   "cell_type": "code",
   "execution_count": null,
   "metadata": {},
   "outputs": [],
   "source": [
    "def swap(i, j, n):\n",
    "    I = np.identity(n)\n",
    "    I[i][i] = I[j][j] = 0\n",
    "    I[i][j] = I[j][i] = 1\n",
    "\n",
    "    return I"
   ]
  },
  {
   "cell_type": "code",
   "execution_count": null,
   "metadata": {},
   "outputs": [],
   "source": [
    "def invert(i, n):\n",
    "    I = np.identity(n)\n",
    "    I[i][i] = -1\n",
    "\n",
    "    return I"
   ]
  },
  {
   "cell_type": "code",
   "execution_count": 1,
   "metadata": {},
   "outputs": [],
   "source": [
    "def add(i, j, c, n):\n",
    "    I = np.identity(n)\n",
    "    I[i][j] = c\n",
    "\n",
    "    return I"
   ]
  }
 ],
 "metadata": {
  "interpreter": {
   "hash": "34f4dfd37430beb4269c2814c0f2f0fff3f1a5d3473b2043c243cae2a6ec9a36"
  },
  "kernelspec": {
   "display_name": "Python 3.6.9 64-bit ('fpylll-env': venv)",
   "language": "python",
   "name": "python3"
  },
  "language_info": {
   "codemirror_mode": {
    "name": "ipython",
    "version": 3
   },
   "file_extension": ".py",
   "mimetype": "text/x-python",
   "name": "python",
   "nbconvert_exporter": "python",
   "pygments_lexer": "ipython3",
   "version": "3.6.9"
  },
  "orig_nbformat": 4
 },
 "nbformat": 4,
 "nbformat_minor": 2
}
