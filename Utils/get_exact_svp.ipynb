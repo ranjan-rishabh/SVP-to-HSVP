{
 "cells": [
  {
   "cell_type": "code",
   "execution_count": 1,
   "metadata": {},
   "outputs": [],
   "source": [
    "from fpylll import IntegerMatrix, BKZ, SVP, LLL\n",
    "import numpy as np\n",
    "import sympy as sp\n",
    "from math import sqrt\n",
    "import matplotlib.pyplot as plt"
   ]
  },
  {
   "cell_type": "code",
   "execution_count": null,
   "metadata": {},
   "outputs": [],
   "source": [
    "fi = open(\"/path/to/file/containing/all/lattices\", 'r')\n",
    "def getSVP(j, a):\n",
    "    matrix_tmp = IntegerMatrix.from_file(\"/path/to/file/containing/the/single/matrix\" + str(j-9) + \".txt\")\n",
    "    S = SVP.shortest_vector(matrix_tmp)\n",
    "    res_s = 0\n",
    "    for j in range(len(S)):\n",
    "        res_s = res_s + S[j]*S[j]\n",
    "    res_s = sqrt(res_s)\n",
    "    a.append(res_s)\n",
    "\n",
    "j = 0\n",
    "a = []\n",
    "\n",
    "fo = open(\"/path/to/a/new/file/t0.txt\", 'w+')\n",
    "for i in fi:\n",
    "    fo.write(i)\n",
    "    j = j+1\n",
    "    if j%9==0:\n",
    "        fo.close()\n",
    "        getSVP(j, a)\n",
    "        fo = open(\"/path/to/file/containing/the/single/matrix\" + str(j) + \".txt\", 'w+')\n",
    "\n",
    "print(\",\".join([str(x) for x in a]))"
   ]
  }
 ],
 "metadata": {
  "interpreter": {
   "hash": "df0893f56f349688326838aaeea0de204df53a132722cbd565e54b24a8fec5f6"
  },
  "kernelspec": {
   "display_name": "Python 3.8.0 64-bit",
   "language": "python",
   "name": "python3"
  },
  "language_info": {
   "codemirror_mode": {
    "name": "ipython",
    "version": 3
   },
   "file_extension": ".py",
   "mimetype": "text/x-python",
   "name": "python",
   "nbconvert_exporter": "python",
   "pygments_lexer": "ipython3",
   "version": "3.6.9"
  },
  "orig_nbformat": 4
 },
 "nbformat": 4,
 "nbformat_minor": 2
}
