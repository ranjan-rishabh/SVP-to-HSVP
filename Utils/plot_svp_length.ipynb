{
 "cells": [
  {
   "cell_type": "code",
   "execution_count": null,
   "metadata": {},
   "outputs": [],
   "source": [
    "import numpy as np\n",
    "from math import sqrt\n",
    "import matplotlib.pyplot as plt"
   ]
  },
  {
   "cell_type": "code",
   "execution_count": null,
   "metadata": {},
   "outputs": [],
   "source": [
    "# this is the exact svp length calculated for 44 random matrices using fpLLL\n",
    "exact_svp = [2.8284271247461903,4.0,3.7416573867739413,3.872983346207417,3.0,2.8284271247461903,3.605551275463989,3.3166247903554,3.0,3.872983346207417,4.0,3.4641016151377544,3.605551275463989,3.3166247903554,3.605551275463989,2.23606797749979,3.1622776601683795,2.8284271247461903,3.872983346207417,3.605551275463989,3.872983346207417,3.3166247903554,3.0,3.872983346207417,3.605551275463989,3.605551275463989,3.1622776601683795,3.605551275463989,3.3166247903554,3.4641016151377544,3.0,4.0,3.4641016151377544,3.605551275463989,3.3166247903554,3.605551275463989,3.1622776601683795,3.0,3.7416573867739413,3.4641016151377544,3.605551275463989,2.23606797749979,3.872983346207417,3.605551275463989]\n",
    "\n",
    "# this is a tuple (a, b) where a is svp length from svp_to_hsvp reduction and b is svp length from LLL (computed using sagemath)\n",
    "reduced_svp_LLL =[[sqrt(42), 11], [2*sqrt(5), 2*sqrt(6)], [sqrt(30), 11], [sqrt(15), sqrt(15)], [3, 11], [2*sqrt(2), 2*sqrt(7)], [sqrt(13), 11], [sqrt(14), sqrt(14)], [4*sqrt(2), 11], [sqrt(34), 11], [sqrt(19), sqrt(29)], [sqrt(23), 11], [2*sqrt(5), 11], [sqrt(22), 11], [2*sqrt(7), sqrt(30)], [sqrt(5), sqrt(5)], [sqrt(15), sqrt(30)], [2*sqrt(3), 11], [sqrt(17), 11], [4, 4], [sqrt(15), 11], [sqrt(11), 11], [3, sqrt(23)], [2*sqrt(5), 11], [sqrt(13), 11], [sqrt(17), 3*sqrt(3)], [sqrt(10), 11], [sqrt(13), 11], [sqrt(21), 11], [2*sqrt(3), 11], [sqrt(19), sqrt(19)], [2*sqrt(5), 11], [2*sqrt(3), 2*sqrt(7)], [sqrt(13), 11], [sqrt(30), 11], [3*sqrt(3), 3*sqrt(3)], [sqrt(10), 11], [3*sqrt(2), 11], [sqrt(14), 11], [2*sqrt(3), 11], [2*sqrt(6), 11], [sqrt(5), sqrt(5)], [3*sqrt(2), 2*sqrt(7)], [sqrt(15), 11], [sqrt(17), 11]]\n",
    "\n",
    "red_svp = [i[0] for i in reduced_svp_LLL]\n",
    "red_lll = [i[1] for i in reduced_svp_LLL]\n",
    "\n",
    "zipped = zip(exact_svp, red_svp, red_lll)\n",
    "\n",
    "zipped = sorted(zipped, key= lambda x: x[0])\n",
    "\n",
    "exact_svp, red_svp, red_lll = zip(*zipped)"
   ]
  },
  {
   "cell_type": "code",
   "execution_count": null,
   "metadata": {},
   "outputs": [],
   "source": [
    "P_labels = [\"P\" + str(i) for i in range(1,45)]\n",
    "\n",
    "fig = plt.figure(figsize=(20, 20), dpi=80)\n",
    "ax = fig.add_subplot()\n",
    "ax.scatter(P_labels, exact_svp, marker=\"D\", c='r', label=\"SVP (from fpLLL)\")\n",
    "ax.scatter(P_labels, red_svp, c='b', marker=\"o\", label=\"SVP from HSVP\")\n",
    "ax.scatter(P_labels, red_lll, c='g', marker=\"^\", label=\"SVP from LLL\")\n",
    "\n",
    "plt.yticks(np.arange(2, 12, 0.2))\n",
    "plt.legend(loc=(0.2,0.6), prop={'size': 35})\n",
    "plt.xlabel(\"Lattices\")\n",
    "plt.ylabel(\"Shortest-vector length\")\n",
    "plt.show()"
   ]
  }
 ],
 "metadata": {
  "interpreter": {
   "hash": "34f4dfd37430beb4269c2814c0f2f0fff3f1a5d3473b2043c243cae2a6ec9a36"
  },
  "kernelspec": {
   "display_name": "Python 3.6.9 64-bit ('fpylll-env': venv)",
   "language": "python",
   "name": "python3"
  },
  "language_info": {
   "codemirror_mode": {
    "name": "ipython",
    "version": 3
   },
   "file_extension": ".py",
   "mimetype": "text/x-python",
   "name": "python",
   "nbconvert_exporter": "python",
   "pygments_lexer": "ipython3",
   "version": "3.6.9"
  },
  "orig_nbformat": 4
 },
 "nbformat": 4,
 "nbformat_minor": 2
}
