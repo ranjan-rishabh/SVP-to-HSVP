{
 "cells": [
  {
   "cell_type": "code",
   "execution_count": null,
   "metadata": {},
   "outputs": [],
   "source": [
    "from fpylll import IntegerMatrix, SVP, LLL\n",
    "import numpy as np\n",
    "import sympy as sp\n",
    "from math import sqrt"
   ]
  },
  {
   "cell_type": "code",
   "execution_count": null,
   "metadata": {},
   "outputs": [],
   "source": [
    "# find l^2-SVP of lattice given an oracle to find l-HSVP\n",
    "def SVP (B, i):\n",
    "    if(B.shape[1] == 1):\n",
    "        return np.linalg.norm(B) #if there is just one basis vector\n",
    "    \n",
    "    [X, X_v] = HSVP(B, 0)\n",
    "    det = np.linalg.det(B.T.dot(B))\n",
    "    D = B.dot(np.linalg.inv(B.T.dot(B))) #dual lattice\n",
    "    D_scaled = sqrt(det)*D\n",
    "    [Y, Y_v] = HSVP(np.around(D_scaled), sqrt(det))\n",
    "    L0 = sublatticeOrthogonalToGivenVector(np.around(D_scaled), Y_v, i)\n",
    "\n",
    "    return min(np.linalg.norm(X), SVP(L0, i+1))"
   ]
  },
  {
   "cell_type": "code",
   "execution_count": null,
   "metadata": {},
   "outputs": [],
   "source": [
    "#return the HSVP length and vector for the given lattice\n",
    "def HSVP (B, d):\n",
    "    B = np.matrix.tolist(B)\n",
    "    B = [list(map(int, i)) for i in B]\n",
    "    B = IntegerMatrix.from_matrix(B)\n",
    "    L = LLL.reduction(B.transpose())\n",
    "\n",
    "    L = [list(i) for i in L]\n",
    "\n",
    "    if d:\n",
    "        for i in range(len(L)):\n",
    "            for j in range(len(L[0])):\n",
    "                L[i][j] = L[i][j]/d\n",
    "\n",
    "    res_h = 0\n",
    "    for j in range(len(L[0])):\n",
    "        res_h = res_h + L[0][j]*L[0][j]\n",
    "    res_h = sqrt(res_h)\n",
    "    return [res_h, L[0]]"
   ]
  },
  {
   "cell_type": "code",
   "execution_count": null,
   "metadata": {},
   "outputs": [],
   "source": [
    "# return sublattice along the hyperplane orthogonal to Y\n",
    "def sublatticeOrthogonalToGivenVector(D, Y, i):\n",
    "    Y = np.matrix(Y)\n",
    "    Y = Y.T\n",
    "    n = D.shape[0]\n",
    "\n",
    "    # vector which satifies DV=Y\n",
    "    D_red = sp.Matrix(D)\n",
    "    D_red = np.matrix(D_red.rref()[0], dtype='float')\n",
    "    D_red = D_red[:n-i, :]\n",
    "    Y_red = sp.Matrix(Y)\n",
    "    Y_red = np.matrix(Y_red.rref()[0], dtype='float')\n",
    "    Y_red = Y_red[:n-i, :]\n",
    "\n",
    "    V = np.linalg.solve(D_red, Y_red)\n",
    "\n",
    "    # this will store the unimodular matrix \n",
    "    # which when multiplied with D given a lattice basis which has first vector as Y\n",
    "    U = np.zeros((D.shape[1], D.shape[1]))\n",
    "    U[:,0] = V.T\n",
    "\n",
    "    # dimension of U\n",
    "    n = U.shape[1]\n",
    "\n",
    "    # this will store the elementary operations matrix\n",
    "    Elem = np.identity(n)\n",
    "\n",
    "    # swapping first and last columns and transposing\n",
    "    U = U.dot(swap(0, -1, n))\n",
    "    U_T = U.T\n",
    "\n",
    "    # columnGCD operations for all consecutive columns\n",
    "    for i in range(n-1):\n",
    "        [U, Elem] = columnGCD(i, i+1, U, Elem)\n",
    "\n",
    "    I = np.identity(n)\n",
    "    # inverting all the elementary operations\n",
    "    # this creates a unimodular matrix whose first column has values \n",
    "    # such that on multiplying with D (dual of original) it will give \n",
    "    # a basis whose first column is Y\n",
    "    U = I.dot(np.linalg.inv(Elem))\n",
    "    U = I.T\n",
    "    U = I.dot(swap(0, -1, n))\n",
    "\n",
    "    # lattice basis of dual lattice D with first basis vector as Y\n",
    "    # this has dimensions n x n-1\n",
    "    M = D.dot(U)\n",
    "    M = M.dot(np.linalg.inv(M.dot(M.T)))[:, 1:]\n",
    "\n",
    "    return M"
   ]
  },
  {
   "cell_type": "code",
   "execution_count": null,
   "metadata": {},
   "outputs": [],
   "source": [
    "# perform gcd operations on the last row elemets of the given vectors\n",
    "# and return the matrix for elementary operations involved\n",
    "def columnGCD(i, j, U, Elem):\n",
    "    a = U[-1][i]\n",
    "    b = U[-1][j]\n",
    "\n",
    "    if(a==0):\n",
    "        return [U, Elem]\n",
    "    \n",
    "    if(a>b):\n",
    "        Elem = Elem.dot(swap(i, j, U.shape[0]))\n",
    "        [U, Elem] = columnGCD(i, j, U.dot(Elem), Elem)\n",
    "    else :\n",
    "        Elem = Elem.dot(add(j, i, (-1)*(b/a), U.shape[0]))\n",
    "        [U, Elem] = columnGCD(i, j, U.dot(Elem), Elem)\n",
    "\n",
    "    return [U, Elem]\n"
   ]
  },
  {
   "cell_type": "code",
   "execution_count": null,
   "metadata": {},
   "outputs": [],
   "source": [
    "def swap(i, j, n):\n",
    "    I = np.identity(n)\n",
    "    I[i][i] = I[j][j] = 0\n",
    "    I[i][j] = I[j][i] = 1\n",
    "\n",
    "    return I"
   ]
  },
  {
   "cell_type": "code",
   "execution_count": null,
   "metadata": {},
   "outputs": [],
   "source": [
    "def invert(i, n):\n",
    "    I = np.identity(n)\n",
    "    I[i][i] = -1\n",
    "\n",
    "    return I"
   ]
  },
  {
   "cell_type": "code",
   "execution_count": null,
   "metadata": {},
   "outputs": [],
   "source": [
    "def add(i, j, c, n):\n",
    "    I = np.identity(n)\n",
    "    I[i][j] = c\n",
    "\n",
    "    return I"
   ]
  },
  {
   "cell_type": "code",
   "execution_count": null,
   "metadata": {},
   "outputs": [],
   "source": [
    "matrix_imp = IntegerMatrix.random(10, \"uniform\", bits=10)\n",
    "print(matrix_imp)\n",
    "\n",
    "with open(\"/path/to/file/to/store/matrix/t1.txt\", 'w') as f:\n",
    "    f.write(str(matrix_imp))"
   ]
  },
  {
   "cell_type": "code",
   "execution_count": null,
   "metadata": {},
   "outputs": [],
   "source": [
    "fi = open(\"/path/to/file/to/store/matrix/t1.txt\", 'r')\n",
    "a = []\n",
    "for l in fi:\n",
    "    l = l.strip()\n",
    "    l = l[1:-1]\n",
    "    a.append([int (i) for i in l.split()])\n",
    "fi.close()\n",
    "\n",
    "B = np.matrix(a)\n",
    "print(SVP(B, 0))"
   ]
  }
 ],
 "metadata": {
  "interpreter": {
   "hash": "34f4dfd37430beb4269c2814c0f2f0fff3f1a5d3473b2043c243cae2a6ec9a36"
  },
  "kernelspec": {
   "display_name": "Python 3.6.9 64-bit ('fpylll-env': venv)",
   "language": "python",
   "name": "python3"
  },
  "language_info": {
   "codemirror_mode": {
    "name": "ipython",
    "version": 3
   },
   "file_extension": ".py",
   "mimetype": "text/x-python",
   "name": "python",
   "nbconvert_exporter": "python",
   "pygments_lexer": "ipython3",
   "version": "3.6.9"
  },
  "orig_nbformat": 4
 },
 "nbformat": 4,
 "nbformat_minor": 2
}
