{
 "cells": [
  {
   "cell_type": "code",
   "execution_count": 351,
   "metadata": {},
   "outputs": [],
   "source": [
    "import sage.modules.free_module as fm\n",
    "import sage.modules.module as module\n",
    "from sage.interfaces.all import gap\n",
    "from sage.groups.perm_gps.permgroup import PermutationGroup\n",
    "from sage.matrix.matrix_space import MatrixSpace\n",
    "from sage.matrix.constructor import Matrix\n",
    "import sage.matrix as matrix\n",
    "from sage.modules.free_module_element import vector\n",
    "#from sage.rings.arith import GCD, rising_factorial, binomial\n",
    "from sage.modules.free_quadratic_module_integer_symmetric import IntegralLattice\n",
    "from sage.groups.all import SymmetricGroup\n",
    "#from sage.misc.misc import prod\n",
    "from sage.misc.functional import log, is_even\n",
    "from sage.rings.rational_field import QQ\n",
    "from sage.rings.rational_field import ZZ\n",
    "\n",
    "from sage.structure.parent_gens import ParentWithGens\n",
    "from sage.rings.polynomial.polynomial_ring_constructor import PolynomialRing\n",
    "from sage.rings.fraction_field import FractionField\n",
    "from sage.rings.integer_ring import IntegerRing\n",
    "from sage.rings.integer import Integer\n",
    "from sage.combinat.set_partition import SetPartitions\n",
    "from sage.misc.randstate import current_randstate\n",
    "from sage.misc.decorators import rename_keyword\n",
    "from sage.structure.sequence import Sequence\n",
    "from sage.structure.element import is_Vector\n",
    "from sage.rings.integer_ring import ZZ, is_IntegerRing\n",
    "from sage.rings.integer import Integer\n",
    "from sage.rings.rational_field import QQ, is_RationalField\n",
    "from sage.rings.real_double import RDF\n",
    "from sage.rings.complex_double import CDF\n",
    "from sage.rings.finite_rings.integer_mod_ring import IntegerModRing\n",
    "from sage.misc.derivative import multi_derivative \n",
    "import fpylll\n",
    "import sage.modules.free_module\n",
    "from sage.modules.free_module_element import is_FreeModuleElement"
   ]
  },
  {
   "cell_type": "code",
   "execution_count": 81,
   "metadata": {},
   "outputs": [],
   "source": [
    "from fpylll import *"
   ]
  },
  {
   "cell_type": "code",
   "execution_count": 241,
   "metadata": {},
   "outputs": [],
   "source": [
    "def HSVP(M):\n",
    "    return Matrix(M.basis()).LLL(delta=0.251,eta=0.5).row(0)\n",
    "\n",
    "def SVP(L,HSVP):\n",
    "\n",
    "    if(Matrix(L.basis()).nrows()==1):\n",
    "        return Matrix(L.basis()).row(0)\n",
    "    \n",
    "    x = HSVP(L)\n",
    "    y = HSVP(L.dual_lattice())\n",
    "    \n",
    "    y =y*y.denominator()\n",
    "    L_0 = L.orthogonal_complement( [vector(ZZ,y)])\n",
    "    \n",
    "    \n",
    "    SVP_L0 = SVP(L_0,HSVP)\n",
    "    \n",
    "    if(x.norm()>SVP_L0.norm()):\n",
    "        return SVP_L0\n",
    "    else:\n",
    "        return x\n",
    "    \n"
   ]
  },
  {
   "cell_type": "code",
   "execution_count": 292,
   "metadata": {},
   "outputs": [],
   "source": [
    "def is_vector_in_Lattice(L,x):\n",
    "    G = sage.matrix.constructor.identity_matrix(Matrix(L.basis()).nrows())\n",
    "    return IntegralLattice(G,Matrix(x)).is_submodule(L)"
   ]
  },
  {
   "cell_type": "code",
   "execution_count": 336,
   "metadata": {},
   "outputs": [
    {
     "name": "stdout",
     "output_type": "stream",
     "text": [
      "[ 10 2 ]\n",
      "[  6 3 ]\n"
     ]
    }
   ],
   "source": [
    "print(fpylll.IntegerMatrix.random(2,\"uniform\",bits = 4))"
   ]
  },
  {
   "cell_type": "code",
   "execution_count": 353,
   "metadata": {},
   "outputs": [
    {
     "name": "stdout",
     "output_type": "stream",
     "text": [
      "Babai precision issue\n",
      "Babai precision issue\n",
      "[[sqrt(15), 4], [sqrt(38), 11], [sqrt(26), 2*sqrt(7)], [sqrt(29), 11], [sqrt(21), 11], [sqrt(17), sqrt(23)], [sqrt(11), 11], [3, 2*sqrt(6)], [2*sqrt(6), 2*sqrt(6)], [sqrt(11), sqrt(11)], [sqrt(23), sqrt(23)], [4, 11], [sqrt(10), 11], [2*sqrt(5), 11], [2*sqrt(3), 2*sqrt(7)], [sqrt(22), 11], [sqrt(10), 11], [3, 11]]\n"
     ]
    }
   ],
   "source": [
    "data = []\n",
    "for i in range(20):\n",
    "    try:\n",
    "        A = sage.crypto.gen_lattice(type='cyclotomic',n=4)\n",
    "        G = sage.matrix.constructor.identity_matrix(A.nrows())\n",
    "        J = IntegralLattice(G,A) \n",
    "\n",
    "        # use the reduction algorithm to get short vector\n",
    "        a = SVP(J,HSVP)\n",
    "        if(not is_vector_in_Lattice(J,a)):\n",
    "            print(\"wrong\")\n",
    "            print(a)\n",
    "            print(J)\n",
    "\n",
    "        # use the approximate HSVP oracle to get short vector\n",
    "        b=HSVP(J)\n",
    "        if(not is_vector_in_Lattice(J,b)):\n",
    "            print(\"wrong\")\n",
    "            print(b)\n",
    "            print(J)\n",
    "        data.append([a.norm(),b.norm()])\n",
    "    except:\n",
    "        print(\"Babai precision issue\")\n",
    "print(data)"
   ]
  },
  {
   "cell_type": "code",
   "execution_count": null,
   "metadata": {},
   "outputs": [],
   "source": []
  }
 ],
 "metadata": {
  "kernelspec": {
   "display_name": "Python 3",
   "language": "python",
   "name": "python3"
  },
  "language_info": {
   "codemirror_mode": {
    "name": "ipython",
    "version": 3
   },
   "file_extension": ".py",
   "mimetype": "text/x-python",
   "name": "python",
   "nbconvert_exporter": "python",
   "pygments_lexer": "ipython3",
   "version": "3.9.5"
  }
 },
 "nbformat": 4,
 "nbformat_minor": 4
}
